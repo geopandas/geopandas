{
 "cells": [
  {
   "cell_type": "markdown",
   "id": "8670e569-523f-41e6-9e55-9ef09d020a64",
   "metadata": {},
   "source": [
    "## Analyzing Spatial Data with GeoPandas Using the Spatial Index (sindex)\n"
   ]
  },
  {
   "cell_type": "code",
   "execution_count": 21,
   "id": "ed44374e-3573-4e6f-8c2c-ca081ed4c6b5",
   "metadata": {},
   "outputs": [],
   "source": [
    "import pandas as pd\n",
    "import geopandas as gpd\n",
    "from shapely import Point\n",
    "import numpy as np\n",
    "import geodatasets\n",
    "import matplotlib.pyplot as plt"
   ]
  },
  {
   "cell_type": "code",
   "execution_count": 40,
   "id": "02a214ee-d9dd-4366-92e4-9fece19d7d46",
   "metadata": {},
   "outputs": [],
   "source": [
    "# Read some example geodata with different geometry types\n",
    "\n",
    "# Point data\n",
    "df_cars = pd.read_csv(geodatasets.get_path(\"geoda.cars\"))\n",
    "geometry = gpd.points_from_xy(df_cars.Longitude, df_cars.Latitude)\n",
    "gdf_cars = gpd.GeoDataFrame(df_cars, geometry=geometry, crs=\"EPSG:4326\")\n",
    "\n",
    "# MultiPolygon data\n",
    "gdf_communities = gpd.read_file(geodatasets.get_path(\"geoda.chicago_commpop\"), crs=\"EPSG:4326\")"
   ]
  },
  {
   "cell_type": "markdown",
   "id": "54fb0460-5726-413c-99ca-8d38d47cc0cb",
   "metadata": {},
   "source": [
    "### Finding the Nearest Object\n",
    "The `nearest` method can be used with single or multiple geometries. Accepted formats include `shapely.geometry`, `GeoSeries`, `GeometryArray`, and `numpy.array of Shapely geometries`.\n",
    "\n",
    "In this example, we want to find the nearest abandoned vehicle to specific public places in Chicago using the `nearest` method. We start by specifying two locations in Chicago using shapely.geometry.Point objects. The points are stored in a numpy.array.\n",
    "\n",
    "We then use the nearest method of the spatial index (sindex) to identify the closest abandoned vehicles to these locations from the 'Abandoned Cars in Chicago' dataset. The nearest method returns two sets of indices: indices_location (for the input locations) and indices_vehicles (for the nearest vehicles).\n",
    "\n",
    "Finally, we loop through each location and its corresponding nearest vehicle. For each pair, we extract the vehicle color and make/model, and print a message with the results."
   ]
  },
  {
   "cell_type": "code",
   "execution_count": 27,
   "id": "d1f8a0fe-287b-41e1-9877-1070e35fafda",
   "metadata": {},
   "outputs": [
    {
     "name": "stdout",
     "output_type": "stream",
     "text": [
      "The closest abandoned car to this location (-87.68897964828476, 41.96859458449132) was a gray Jeep - Year Greater 1988\n",
      "The closest abandoned car to this location (-87.6395219482705, 41.96768758127601) was a black Toyota\n"
     ]
    }
   ],
   "source": [
    "chicago_lincoln_square = Point(-87.68897964828476, 41.96859458449132)\n",
    "chicago_montrose_beach = Point(-87.6395219482705, 41.96768758127601)\n",
    "locations = np.array([chicago_lincoln_square, chicago_airport])\n",
    "\n",
    "indices = gdf_cars.sindex.nearest(locations)\n",
    "\n",
    "indices_location = indices[0]\n",
    "indices_vehicles  = indices[1]\n",
    "\n",
    "for index_location, index_vehicle in zip(indices_location, indices_vehicles):\n",
    "    location_x = locations[index_location].x\n",
    "    location_y = locations[index_location].y\n",
    "    car_color = gdf_cars.loc[index_vehicle, 'Vehicle Color']\n",
    "    car_model = gdf_cars.loc[index_vehicle, 'Vehicle Make/Model']\n",
    "    print(f\"The closest abandoned car to this location {location_x, location_y} was a {car_color.lower()} {car_model}\")"
   ]
  },
  {
   "cell_type": "markdown",
   "id": "c4754990-fc53-4ace-a63c-400367b4560d",
   "metadata": {},
   "source": [
    "### Efficient querying with spatial index\n",
    "\n",
    "In the following example, the goal is to identify all abandoned vehicles within specific Chicago communities. We'll start by filtering the Chicago community population dataset (commpop) to get the communities of interest. Then, we will use the `query` method with the appropriate spatial predicate to efficiently identify the abandoned vehicles in these areas."
   ]
  },
  {
   "cell_type": "markdown",
   "id": "b377690f-0adf-4385-bddc-237c95a8fe48",
   "metadata": {},
   "source": [
    "#### Note: Spatial query predicates\n",
    "Spatial query predicates are operations used to evaluate the spatial relationships between shapes, such as determining if one shape contains, intersects, or is crosses another. You can print a set of valid predicates for this spatial index with the `valid_query_predicates` property"
   ]
  },
  {
   "cell_type": "code",
   "execution_count": 32,
   "id": "c8e21e60-b794-41fb-9b34-410a4b02fcdc",
   "metadata": {},
   "outputs": [
    {
     "data": {
      "text/plain": [
       "{None,\n",
       " 'contains',\n",
       " 'contains_properly',\n",
       " 'covered_by',\n",
       " 'covers',\n",
       " 'crosses',\n",
       " 'intersects',\n",
       " 'overlaps',\n",
       " 'touches',\n",
       " 'within'}"
      ]
     },
     "execution_count": 32,
     "metadata": {},
     "output_type": "execute_result"
    }
   ],
   "source": [
    "gdf_communities.sindex.valid_query_predicates"
   ]
  },
  {
   "cell_type": "code",
   "execution_count": 51,
   "id": "fb96d089-e757-4f20-ab07-803c45dadbef",
   "metadata": {},
   "outputs": [
    {
     "name": "stdout",
     "output_type": "stream",
     "text": [
      "     community  car_count\n",
      "0      DOUGLAS        490\n",
      "1  FULLER PARK        176\n",
      "2      OAKLAND        273\n"
     ]
    }
   ],
   "source": [
    "communities_of_interest = ['DOUGLAS', 'OAKLAND', 'FULLER PARK']\n",
    "gdf_community_subset = gdf_communities[gdf_communities['community'].isin(communities_of_interest)].reset_index()\n",
    "\n",
    "indices_community, indices_car = gdf_cars.sindex.query(geometry=gdf_community_subset.geometry, predicate='intersects')\n",
    "\n",
    "gdf_cars_filtered = gdf_cars.iloc[indices_car].reset_index(drop=True)\n",
    "gdf_community_filtered = gdf_community_subset.iloc[indices_community].reset_index(drop=True)\n",
    "\n",
    "gdf_cars_filtered['community'] = gdf_community_filtered['community']\n",
    "\n",
    "car_counts_per_community = gdf_cars_filtered.groupby('community').size().reset_index(name='car_count')\n",
    "print(car_counts_per_community)"
   ]
  },
  {
   "cell_type": "code",
   "execution_count": 58,
   "id": "cf5789a0-05ea-4df9-ad63-2d74ef24d1a1",
   "metadata": {},
   "outputs": [
    {
     "data": {
      "image/png": "[encoded data removed]",
      "text/plain": [
       "<Figure size 640x480 with 1 Axes>"
      ]
     },
     "metadata": {},
     "output_type": "display_data"
    }
   ],
   "source": [
    "fig, ax = plt.subplots()\n",
    "ax.set_title(\"Abandoned Vehicles in Selected Chicago Communities\", fontsize=10)\n",
    "gdf_community_filtered.plot(ax=ax, edgecolor=\"blue\", facecolor=\"none\")\n",
    "gdf_cars_filtered.plot(ax=ax, color=\"red\", markersize=1)\n",
    "plt.show()"
   ]
  }
 ],
 "metadata": {
  "kernelspec": {
   "display_name": "Python 3 (ipykernel)",
   "language": "python",
   "name": "python3"
  },
  "language_info": {
   "codemirror_mode": {
    "name": "ipython",
    "version": 3
   },
   "file_extension": ".py",
   "mimetype": "text/x-python",
   "name": "python",
   "nbconvert_exporter": "python",
   "pygments_lexer": "ipython3",
   "version": "3.11.7"
  }
 },
 "nbformat": 4,
 "nbformat_minor": 5
}
