{
 "cells": [
  {
   "cell_type": "markdown",
   "metadata": {},
   "source": [
    "When making a geospatial plot in matplotlib, you can use [maplotlib-scalebar library](https://pypi.org/project/matplotlib-scalebar/) to add a scale bar."
   ]
  },
  {
   "cell_type": "code",
   "execution_count": null,
   "metadata": {},
   "outputs": [],
   "source": [
    "import geopandas as gpd\n",
    "from matplotlib_scalebar.scalebar import ScaleBar"
   ]
  },
  {
   "cell_type": "markdown",
   "metadata": {},
   "source": [
    "## Creating a ScaleBar object"
   ]
  },
  {
   "cell_type": "markdown",
   "metadata": {},
   "source": [
    "The only required parameter for creating a ScaleBar object is *dx*. This is equal to a size of one pixel in real world. Value of this parameter depends on units of your CRS:"
   ]
  },
  {
   "cell_type": "markdown",
   "metadata": {},
   "source": [
    "### Projected coordinate system (meters)\n",
    "The easiest way to add a scale bar is using a projected coordinate system with meters as units. Just set `dx = 1`:"
   ]
  },
  {
   "cell_type": "code",
   "execution_count": null,
   "metadata": {},
   "outputs": [],
   "source": [
    "nybb = gpd.read_file(gpd.datasets.get_path('nybb'))\n",
    "nybb.to_crs(32619, inplace=True)  # Must be converted to a projected coordinate system\n",
    "\n",
    "ax = nybb.plot()\n",
    "ax.add_artist(ScaleBar(1))"
   ]
  },
  {
   "cell_type": "markdown",
   "metadata": {},
   "source": [
    "### Geographic coordinate system (degrees)"
   ]
  },
  {
   "cell_type": "markdown",
   "metadata": {},
   "source": [
    "With a geographic coordinate system with degrees as units, *dx* should be equal to a distance in meters of two points with the same latitude (Y coordinate) which are one full degree of longitude (X) apart. You can calculate this distance with an online calculator [(e.g. Great Circle calculator)](http://edwilliams.org/gccalc.htm) or in geopandas:"
   ]
  },
  {
   "cell_type": "code",
   "execution_count": null,
   "metadata": {},
   "outputs": [],
   "source": [
    "from shapely.geometry.point import Point\n",
    "\n",
    "nybb = gpd.read_file(gpd.datasets.get_path('nybb'))\n",
    "nybb.to_crs(4326, inplace=True)  # Using WGS 84 (in degrees)\n",
    "\n",
    "# Creating the points and calculating the distance\n",
    "points = gpd.GeoSeries([Point(-73.5, 40.5), Point(-74.5, 40.5)], crs=4326)\n",
    "# Points are on the same latitude, one degree of longitude apart, with roughly the coordinates of NYC\n",
    "points = points.to_crs(32619)  # Points are converted from WGS 84 to a projected system for\n",
    "# the calculation\n",
    "\n",
    "distance_meters = points[0].distance(points[1])\n",
    "# The result slightly differs from Great Circle calculator (84,921 and 84,767 meters)\n",
    "# but the difference is insignificant\n",
    "\n",
    "ax = nybb.plot()  # The final plot uses WGS 84 again\n",
    "ax.add_artist(ScaleBar(distance_meters))"
   ]
  },
  {
   "cell_type": "markdown",
   "metadata": {},
   "source": [
    "## Using other units "
   ]
  },
  {
   "cell_type": "markdown",
   "metadata": {},
   "source": [
    "The default unit for *dx* is m (meter). You can change this unit with the *units* and *dimension* parameters. Here is a list of some possible *units* for various values of *dimension*:"
   ]
  },
  {
   "cell_type": "markdown",
   "metadata": {},
   "source": [
    "| dimension | units |\n",
    "| -----     |:-----:|\n",
    "| si-length | km, m, cm, um|\n",
    "| imperial-length |in, ft, yd, mi|\n",
    "|si-length-reciprocal|1/m, 1/cm|\n",
    "|angle|deg|"
   ]
  },
  {
   "cell_type": "markdown",
   "metadata": {},
   "source": [
    "## Customization of the scale bar"
   ]
  },
  {
   "cell_type": "code",
   "execution_count": null,
   "metadata": {},
   "outputs": [],
   "source": [
    "nybb = gpd.read_file(gpd.datasets.get_path('nybb')).to_crs(32619)\n",
    "ax = nybb.plot()\n",
    "\n",
    "# Position and layout\n",
    "scale1 = ScaleBar(\n",
    "dx=1, label='Scale 1',\n",
    "    location='upper left',  # in relation to the whole plot\n",
    "    label_loc='left', scale_loc='bottom'  # in relation to the line\n",
    ")\n",
    "\n",
    "# Color\n",
    "scale2 = ScaleBar(\n",
    "    dx=1, label='Scale 2', location='center', \n",
    "    color='#b32400', box_color='yellow',\n",
    "    box_alpha=0.8  # Slightly transparent box\n",
    ")\n",
    "\n",
    "# Font and text formatting\n",
    "scale3 = ScaleBar(\n",
    "    dx=1, label='Scale 3',\n",
    "    font_properties={'family':'serif', 'size': 'large'},  # For more information see the cell below\n",
    "    scale_formatter=lambda value, unit: f'> {value} {unit} <'\n",
    ")\n",
    "\n",
    "ax.add_artist(scale1)\n",
    "ax.add_artist(scale2)\n",
    "ax.add_artist(scale3)"
   ]
  },
  {
   "cell_type": "markdown",
   "metadata": {},
   "source": [
    "Note: Font is specified by six properties: *family*, *style*, *variant*, *stretch*, *weight*, *size* (and *math_fontfamily*). See [more](https://matplotlib.org/stable/api/font_manager_api.html#matplotlib.font_manager.FontProperties)."
   ]
  },
  {
   "cell_type": "markdown",
   "metadata": {},
   "source": [
    "For more information about matplotlib-scalebar library, see its [PyPI](https://pypi.org/project/matplotlib-scalebar/) or [GitHub](https://github.com/ppinard/matplotlib-scalebar) page."
   ]
  }
 ],
 "metadata": {
  "kernelspec": {
   "display_name": "Python 3",
   "language": "python",
   "name": "python3"
  },
  "language_info": {
   "codemirror_mode": {
    "name": "ipython",
    "version": 3
   },
   "file_extension": ".py",
   "mimetype": "text/x-python",
   "name": "python",
   "nbconvert_exporter": "python",
   "pygments_lexer": "ipython3",
   "version": "3.9.1"
  }
 },
 "nbformat": 4,
 "nbformat_minor": 4
}
