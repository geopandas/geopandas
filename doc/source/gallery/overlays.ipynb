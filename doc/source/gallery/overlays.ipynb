{
 "cells": [
  {
   "cell_type": "markdown",
   "metadata": {},
   "source": [
    "# Overlays\n",
    "\n",
    "Spatial overlays allow you to compare two GeoDataFrames containing polygon or multipolygon geometries \n",
    "and create a new GeoDataFrame with the new geometries representing the spatial combination *and*\n",
    "merged properties. This allows you to answer questions like\n",
    "\n",
    "> What are the demographics of the census tracts within 1000 ft of the highway?\n",
    "\n",
    "The basic idea is demonstrated by the graphic below but keep in mind that overlays operate at the dataframe level, \n",
    "not on individual geometries, and the properties from both are retained\n",
    "\n",
    "![illustration](http://docs.qgis.org/testing/en/_images/overlay_operations.png)"
   ]
  },
  {
   "cell_type": "markdown",
   "metadata": {},
   "source": [
    "Now we can load up two GeoDataFrames containing (multi)polygon geometries..."
   ]
  },
  {
   "cell_type": "code",
   "execution_count": null,
   "metadata": {
    "ExecuteTime": {
     "end_time": "2017-12-15T21:09:36.236298Z",
     "start_time": "2017-12-15T21:09:34.256318Z"
    },
    "execution": {
     "iopub.execute_input": "2021-02-19T19:18:13.239912Z",
     "iopub.status.busy": "2021-02-19T19:18:13.239186Z",
     "iopub.status.idle": "2021-02-19T19:18:14.023899Z",
     "shell.execute_reply": "2021-02-19T19:18:14.024470Z"
    }
   },
   "outputs": [],
   "source": [
    "%matplotlib inline\n",
    "from shapely.geometry import Point\n",
    "from geopandas import datasets, GeoDataFrame, read_file\n",
    "from geopandas.tools import overlay\n",
    "\n",
    "# NYC Boros\n",
    "zippath = datasets.get_path('nybb')\n",
    "polydf = read_file(zippath)\n",
    "\n",
    "# Generate some circles\n",
    "b = [int(x) for x in polydf.total_bounds]\n",
    "N = 10\n",
    "polydf2 = GeoDataFrame([\n",
    "    {'geometry': Point(x, y).buffer(10000), 'value1': x + y, 'value2': x - y}\n",
    "    for x, y in zip(range(b[0], b[2], int((b[2] - b[0]) / N)),\n",
    "                    range(b[1], b[3], int((b[3] - b[1]) / N)))])"
   ]
  },
  {
   "cell_type": "markdown",
   "metadata": {},
   "source": [
    "The first dataframe contains multipolygons of the NYC boros"
   ]
  },
  {
   "cell_type": "code",
   "execution_count": null,
   "metadata": {
    "ExecuteTime": {
     "end_time": "2017-12-15T21:09:36.526295Z",
     "start_time": "2017-12-15T21:09:36.236298Z"
    },
    "execution": {
     "iopub.execute_input": "2021-02-19T19:18:14.045266Z",
     "iopub.status.busy": "2021-02-19T19:18:14.044778Z",
     "iopub.status.idle": "2021-02-19T19:18:14.204052Z",
     "shell.execute_reply": "2021-02-19T19:18:14.204636Z"
    }
   },
   "outputs": [],
   "source": [
    "polydf.plot()"
   ]
  },
  {
   "cell_type": "markdown",
   "metadata": {},
   "source": [
    "And the second GeoDataFrame is a sequentially generated set of circles in the same geographic space. We'll plot these with a [different color palette](https://matplotlib.org/examples/color/colormaps_reference.html)."
   ]
  },
  {
   "cell_type": "code",
   "execution_count": null,
   "metadata": {
    "ExecuteTime": {
     "end_time": "2017-12-15T21:09:36.756293Z",
     "start_time": "2017-12-15T21:09:36.526295Z"
    },
    "execution": {
     "iopub.execute_input": "2021-02-19T19:18:14.223971Z",
     "iopub.status.busy": "2021-02-19T19:18:14.223040Z",
     "iopub.status.idle": "2021-02-19T19:18:14.323100Z",
     "shell.execute_reply": "2021-02-19T19:18:14.323580Z"
    }
   },
   "outputs": [],
   "source": [
    "polydf2.plot(cmap='tab20b')"
   ]
  },
  {
   "cell_type": "markdown",
   "metadata": {},
   "source": [
    "The `geopandas.tools.overlay` function takes three arguments:\n",
    "\n",
    "* df1\n",
    "* df2\n",
    "* how\n",
    "\n",
    "Where `how` can be one of:\n",
    "\n",
    "    ['intersection',\n",
    "    'union',\n",
    "    'identity',\n",
    "    'symmetric_difference',\n",
    "    'difference']\n",
    "\n",
    "So let's identify the areas (and attributes) where both dataframes intersect using the `overlay` tool. "
   ]
  },
  {
   "cell_type": "code",
   "execution_count": null,
   "metadata": {
    "ExecuteTime": {
     "end_time": "2017-12-15T21:09:39.796263Z",
     "start_time": "2017-12-15T21:09:36.756293Z"
    },
    "execution": {
     "iopub.execute_input": "2021-02-19T19:18:14.337831Z",
     "iopub.status.busy": "2021-02-19T19:18:14.337344Z",
     "iopub.status.idle": "2021-02-19T19:18:14.660247Z",
     "shell.execute_reply": "2021-02-19T19:18:14.660903Z"
    }
   },
   "outputs": [],
   "source": [
    "from geopandas.tools import overlay\n",
    "newdf = overlay(polydf, polydf2, how=\"intersection\")\n",
    "newdf.plot(cmap='tab20b')"
   ]
  },
  {
   "cell_type": "markdown",
   "metadata": {},
   "source": [
    "And take a look at the attributes; we see that the attributes from both of the original GeoDataFrames are retained. "
   ]
  },
  {
   "cell_type": "code",
   "execution_count": null,
   "metadata": {
    "ExecuteTime": {
     "end_time": "2017-12-15T21:09:40.416257Z",
     "start_time": "2017-12-15T21:09:39.796263Z"
    },
    "execution": {
     "iopub.execute_input": "2021-02-19T19:18:14.667214Z",
     "iopub.status.busy": "2021-02-19T19:18:14.666360Z",
     "iopub.status.idle": "2021-02-19T19:18:14.820637Z",
     "shell.execute_reply": "2021-02-19T19:18:14.821149Z"
    }
   },
   "outputs": [],
   "source": [
    "polydf.head()"
   ]
  },
  {
   "cell_type": "code",
   "execution_count": null,
   "metadata": {
    "ExecuteTime": {
     "end_time": "2017-12-15T21:09:40.446256Z",
     "start_time": "2017-12-15T21:09:40.416257Z"
    },
    "execution": {
     "iopub.execute_input": "2021-02-19T19:18:14.825886Z",
     "iopub.status.busy": "2021-02-19T19:18:14.825441Z",
     "iopub.status.idle": "2021-02-19T19:18:14.831638Z",
     "shell.execute_reply": "2021-02-19T19:18:14.832177Z"
    }
   },
   "outputs": [],
   "source": [
    "polydf2.head()"
   ]
  },
  {
   "cell_type": "code",
   "execution_count": null,
   "metadata": {
    "ExecuteTime": {
     "end_time": "2017-12-15T21:09:40.586255Z",
     "start_time": "2017-12-15T21:09:40.446256Z"
    },
    "execution": {
     "iopub.execute_input": "2021-02-19T19:18:14.838527Z",
     "iopub.status.busy": "2021-02-19T19:18:14.838050Z",
     "iopub.status.idle": "2021-02-19T19:18:14.850796Z",
     "shell.execute_reply": "2021-02-19T19:18:14.851356Z"
    }
   },
   "outputs": [],
   "source": [
    "newdf.head()"
   ]
  },
  {
   "cell_type": "markdown",
   "metadata": {},
   "source": [
    "Now let's look at the other `how` operations:"
   ]
  },
  {
   "cell_type": "code",
   "execution_count": null,
   "metadata": {
    "ExecuteTime": {
     "end_time": "2017-12-15T21:09:44.026220Z",
     "start_time": "2017-12-15T21:09:40.586255Z"
    },
    "execution": {
     "iopub.execute_input": "2021-02-19T19:18:14.869062Z",
     "iopub.status.busy": "2021-02-19T19:18:14.865112Z",
     "iopub.status.idle": "2021-02-19T19:18:15.589238Z",
     "shell.execute_reply": "2021-02-19T19:18:15.589725Z"
    }
   },
   "outputs": [],
   "source": [
    "newdf = overlay(polydf, polydf2, how=\"union\")\n",
    "newdf.plot(cmap='tab20b')"
   ]
  },
  {
   "cell_type": "code",
   "execution_count": null,
   "metadata": {
    "ExecuteTime": {
     "end_time": "2017-12-15T21:09:47.366187Z",
     "start_time": "2017-12-15T21:09:44.026220Z"
    },
    "execution": {
     "iopub.execute_input": "2021-02-19T19:18:15.603116Z",
     "iopub.status.busy": "2021-02-19T19:18:15.602596Z",
     "iopub.status.idle": "2021-02-19T19:18:16.303479Z",
     "shell.execute_reply": "2021-02-19T19:18:16.303960Z"
    }
   },
   "outputs": [],
   "source": [
    "newdf = overlay(polydf, polydf2, how=\"identity\")\n",
    "newdf.plot(cmap='tab20b')"
   ]
  },
  {
   "cell_type": "code",
   "execution_count": null,
   "metadata": {
    "ExecuteTime": {
     "end_time": "2017-12-15T21:09:50.556155Z",
     "start_time": "2017-12-15T21:09:47.366187Z"
    },
    "execution": {
     "iopub.execute_input": "2021-02-19T19:18:16.318499Z",
     "iopub.status.busy": "2021-02-19T19:18:16.317942Z",
     "iopub.status.idle": "2021-02-19T19:18:16.915802Z",
     "shell.execute_reply": "2021-02-19T19:18:16.916297Z"
    },
    "tags": [
     "nbsphinx-thumbnail"
    ]
   },
   "outputs": [],
   "source": [
    "newdf = overlay(polydf, polydf2, how=\"symmetric_difference\")\n",
    "newdf.plot(cmap='tab20b')"
   ]
  },
  {
   "cell_type": "code",
   "execution_count": null,
   "metadata": {
    "ExecuteTime": {
     "end_time": "2017-12-15T21:09:53.566125Z",
     "start_time": "2017-12-15T21:09:50.556155Z"
    },
    "execution": {
     "iopub.execute_input": "2021-02-19T19:18:16.933907Z",
     "iopub.status.busy": "2021-02-19T19:18:16.929184Z",
     "iopub.status.idle": "2021-02-19T19:18:17.281832Z",
     "shell.execute_reply": "2021-02-19T19:18:17.282367Z"
    }
   },
   "outputs": [],
   "source": [
    "newdf = overlay(polydf, polydf2, how=\"difference\")\n",
    "newdf.plot(cmap='tab20b')"
   ]
  }
 ],
 "metadata": {
  "kernelspec": {
   "display_name": "Python 3",
   "language": "python",
   "name": "python3"
  },
  "language_info": {
   "codemirror_mode": {
    "name": "ipython",
    "version": 3
   },
   "file_extension": ".py",
   "mimetype": "text/x-python",
   "name": "python",
   "nbconvert_exporter": "python",
   "pygments_lexer": "ipython3",
   "version": "3.9.1"
  }
 },
 "nbformat": 4,
 "nbformat_minor": 4
}
