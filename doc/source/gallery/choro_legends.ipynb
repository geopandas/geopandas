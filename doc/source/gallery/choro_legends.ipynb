{
 "cells": [
  {
   "cell_type": "markdown",
   "metadata": {},
   "source": [
    "# Choro legends"
   ]
  },
  {
   "cell_type": "code",
   "execution_count": null,
   "metadata": {
    "execution": {
     "iopub.execute_input": "2021-02-19T19:17:57.882374Z",
     "iopub.status.busy": "2021-02-19T19:17:57.881745Z",
     "iopub.status.idle": "2021-02-19T19:17:58.363575Z",
     "shell.execute_reply": "2021-02-19T19:17:58.364192Z"
    }
   },
   "outputs": [],
   "source": [
    "import geopandas\n",
    "from geopandas import read_file"
   ]
  },
  {
   "cell_type": "code",
   "execution_count": null,
   "metadata": {
    "execution": {
     "iopub.execute_input": "2021-02-19T19:17:58.368924Z",
     "iopub.status.busy": "2021-02-19T19:17:58.368179Z",
     "iopub.status.idle": "2021-02-19T19:17:59.088444Z",
     "shell.execute_reply": "2021-02-19T19:17:59.089317Z"
    }
   },
   "outputs": [],
   "source": [
    "import mapclassify\n",
    "mapclassify.__version__"
   ]
  },
  {
   "cell_type": "code",
   "execution_count": null,
   "metadata": {
    "execution": {
     "iopub.execute_input": "2021-02-19T19:17:59.094146Z",
     "iopub.status.busy": "2021-02-19T19:17:59.093407Z",
     "iopub.status.idle": "2021-02-19T19:18:00.033166Z",
     "shell.execute_reply": "2021-02-19T19:18:00.032619Z"
    }
   },
   "outputs": [],
   "source": [
    "import libpysal\n",
    "libpysal.__version__"
   ]
  },
  {
   "cell_type": "code",
   "execution_count": null,
   "metadata": {
    "execution": {
     "iopub.execute_input": "2021-02-19T19:18:00.038206Z",
     "iopub.status.busy": "2021-02-19T19:18:00.037690Z",
     "iopub.status.idle": "2021-02-19T19:18:00.301520Z",
     "shell.execute_reply": "2021-02-19T19:18:00.301991Z"
    }
   },
   "outputs": [],
   "source": [
    "libpysal.examples.available()"
   ]
  },
  {
   "cell_type": "code",
   "execution_count": null,
   "metadata": {
    "execution": {
     "iopub.execute_input": "2021-02-19T19:18:00.305517Z",
     "iopub.status.busy": "2021-02-19T19:18:00.305087Z",
     "iopub.status.idle": "2021-02-19T19:18:00.311679Z",
     "shell.execute_reply": "2021-02-19T19:18:00.312208Z"
    }
   },
   "outputs": [],
   "source": [
    "_ = libpysal.examples.load_example('South')\n",
    "pth = libpysal.examples.get_path('south.shp')"
   ]
  },
  {
   "cell_type": "code",
   "execution_count": null,
   "metadata": {
    "execution": {
     "iopub.execute_input": "2021-02-19T19:18:00.463535Z",
     "iopub.status.busy": "2021-02-19T19:18:00.463052Z",
     "iopub.status.idle": "2021-02-19T19:18:00.507282Z",
     "shell.execute_reply": "2021-02-19T19:18:00.507869Z"
    }
   },
   "outputs": [],
   "source": [
    "df = read_file(pth)"
   ]
  },
  {
   "cell_type": "markdown",
   "metadata": {},
   "source": [
    "## New default legend formatting"
   ]
  },
  {
   "cell_type": "code",
   "execution_count": null,
   "metadata": {
    "execution": {
     "iopub.execute_input": "2021-02-19T19:18:00.525919Z",
     "iopub.status.busy": "2021-02-19T19:18:00.522641Z",
     "iopub.status.idle": "2021-02-19T19:18:00.890038Z",
     "shell.execute_reply": "2021-02-19T19:18:00.890533Z"
    },
    "tags": [
     "nbsphinx-thumbnail"
    ]
   },
   "outputs": [],
   "source": [
    "%matplotlib inline\n",
    "ax = df.plot(column='HR60', scheme='QUANTILES', k=4, \\\n",
    "             cmap='BuPu', legend=True,\n",
    "             legend_kwds={'loc': 'center left', 'bbox_to_anchor':(1,0.5)})"
   ]
  },
  {
   "cell_type": "code",
   "execution_count": null,
   "metadata": {
    "execution": {
     "iopub.execute_input": "2021-02-19T19:18:00.894683Z",
     "iopub.status.busy": "2021-02-19T19:18:00.893865Z",
     "iopub.status.idle": "2021-02-19T19:18:00.896110Z",
     "shell.execute_reply": "2021-02-19T19:18:00.896574Z"
    }
   },
   "outputs": [],
   "source": [
    "labels = [t.get_text() for t in ax.get_legend().get_texts()]\n",
    "labels"
   ]
  },
  {
   "cell_type": "code",
   "execution_count": null,
   "metadata": {
    "execution": {
     "iopub.execute_input": "2021-02-19T19:18:00.899605Z",
     "iopub.status.busy": "2021-02-19T19:18:00.899139Z",
     "iopub.status.idle": "2021-02-19T19:18:00.903273Z",
     "shell.execute_reply": "2021-02-19T19:18:00.903756Z"
    }
   },
   "outputs": [],
   "source": [
    "q4 = mapclassify.Quantiles(df.HR60, k=4)\n",
    "q4"
   ]
  },
  {
   "cell_type": "code",
   "execution_count": null,
   "metadata": {
    "execution": {
     "iopub.execute_input": "2021-02-19T19:18:00.907109Z",
     "iopub.status.busy": "2021-02-19T19:18:00.906545Z",
     "iopub.status.idle": "2021-02-19T19:18:00.908943Z",
     "shell.execute_reply": "2021-02-19T19:18:00.909417Z"
    }
   },
   "outputs": [],
   "source": [
    "labels == q4.get_legend_classes()"
   ]
  },
  {
   "cell_type": "markdown",
   "metadata": {},
   "source": [
    "Note that in this case, the first interval is closed on the minimum value in the dataset. The other intervals have an open lower bound. This is now displayed in the legend."
   ]
  },
  {
   "cell_type": "markdown",
   "metadata": {},
   "source": [
    "## Overriding numerical format"
   ]
  },
  {
   "cell_type": "code",
   "execution_count": null,
   "metadata": {
    "execution": {
     "iopub.execute_input": "2021-02-19T19:18:00.925122Z",
     "iopub.status.busy": "2021-02-19T19:18:00.923292Z",
     "iopub.status.idle": "2021-02-19T19:18:01.273685Z",
     "shell.execute_reply": "2021-02-19T19:18:01.274187Z"
    }
   },
   "outputs": [],
   "source": [
    "ax = df.plot(column='HR60', scheme='QUANTILES', k=4, \\\n",
    "             cmap='BuPu', legend=True,\n",
    "             legend_kwds={'loc': 'center left', 'bbox_to_anchor':(1,0.5)},\n",
    "          )"
   ]
  },
  {
   "cell_type": "code",
   "execution_count": null,
   "metadata": {
    "execution": {
     "iopub.execute_input": "2021-02-19T19:18:01.289801Z",
     "iopub.status.busy": "2021-02-19T19:18:01.287136Z",
     "iopub.status.idle": "2021-02-19T19:18:01.709712Z",
     "shell.execute_reply": "2021-02-19T19:18:01.709213Z"
    }
   },
   "outputs": [],
   "source": [
    "ax = df.plot(column='HR60', scheme='QUANTILES', k=4, \\\n",
    "             cmap='BuPu', legend=True,\n",
    "             legend_kwds={'loc': 'center left', 'bbox_to_anchor':(1,0.5),  'fmt':\"{:.4f}\"})"
   ]
  },
  {
   "cell_type": "code",
   "execution_count": null,
   "metadata": {
    "execution": {
     "iopub.execute_input": "2021-02-19T19:18:01.725504Z",
     "iopub.status.busy": "2021-02-19T19:18:01.725016Z",
     "iopub.status.idle": "2021-02-19T19:18:02.077383Z",
     "shell.execute_reply": "2021-02-19T19:18:02.077872Z"
    }
   },
   "outputs": [],
   "source": [
    "ax = df.plot(column='HR60', scheme='QUANTILES', k=4, \\\n",
    "             cmap='BuPu', legend=True,\n",
    "             legend_kwds={'loc': 'center left', 'bbox_to_anchor':(1,0.5),  'fmt':\"{:.0f}\"})"
   ]
  },
  {
   "cell_type": "markdown",
   "metadata": {},
   "source": [
    "The new legends_kwds arg `fmt` takes a string to set the numerical formatting."
   ]
  },
  {
   "cell_type": "markdown",
   "metadata": {},
   "source": [
    "## When first class lower bound < y.min()"
   ]
  },
  {
   "cell_type": "code",
   "execution_count": null,
   "metadata": {
    "execution": {
     "iopub.execute_input": "2021-02-19T19:18:02.094073Z",
     "iopub.status.busy": "2021-02-19T19:18:02.091034Z",
     "iopub.status.idle": "2021-02-19T19:18:02.493098Z",
     "shell.execute_reply": "2021-02-19T19:18:02.493607Z"
    }
   },
   "outputs": [],
   "source": [
    "ax = df.plot(column='HR60', scheme='BoxPlot', \\\n",
    "             cmap='BuPu', legend=True,\n",
    "             legend_kwds={'loc': 'center left', 'bbox_to_anchor':(1,0.5),\n",
    "                         'fmt': \"{:.0f}\"})"
   ]
  },
  {
   "cell_type": "code",
   "execution_count": null,
   "metadata": {
    "execution": {
     "iopub.execute_input": "2021-02-19T19:18:02.496933Z",
     "iopub.status.busy": "2021-02-19T19:18:02.496451Z",
     "iopub.status.idle": "2021-02-19T19:18:02.500768Z",
     "shell.execute_reply": "2021-02-19T19:18:02.501286Z"
    }
   },
   "outputs": [],
   "source": [
    "bp = mapclassify.BoxPlot(df.HR60)\n",
    "bp\n"
   ]
  },
  {
   "cell_type": "code",
   "execution_count": null,
   "metadata": {
    "execution": {
     "iopub.execute_input": "2021-02-19T19:18:02.504898Z",
     "iopub.status.busy": "2021-02-19T19:18:02.504432Z",
     "iopub.status.idle": "2021-02-19T19:18:02.506547Z",
     "shell.execute_reply": "2021-02-19T19:18:02.507046Z"
    }
   },
   "outputs": [],
   "source": [
    "bp.get_legend_classes(fmt=\"{:.0f}\")"
   ]
  },
  {
   "cell_type": "markdown",
   "metadata": {},
   "source": [
    "In some classifiers the user should be aware that the lower (upper) bound of the first (last) interval is not equal to the minimum (maximum) of the attribute values. This is useful to detect extreme values and highly skewed distributions."
   ]
  },
  {
   "cell_type": "markdown",
   "metadata": {},
   "source": [
    "## Categorical Data"
   ]
  },
  {
   "cell_type": "code",
   "execution_count": null,
   "metadata": {
    "execution": {
     "iopub.execute_input": "2021-02-19T19:18:02.583273Z",
     "iopub.status.busy": "2021-02-19T19:18:02.582743Z",
     "iopub.status.idle": "2021-02-19T19:18:03.121614Z",
     "shell.execute_reply": "2021-02-19T19:18:03.122249Z"
    }
   },
   "outputs": [],
   "source": [
    "ax = df.plot(column='STATE_NAME', categorical=True, legend=True, \\\n",
    "             legend_kwds={'loc': 'center left', 'bbox_to_anchor':(1,0.5),\n",
    "                         'fmt': \"{:.0f}\"}) # fmt is ignored for categorical data"
   ]
  },
  {
   "cell_type": "code",
   "execution_count": null,
   "metadata": {},
   "outputs": [],
   "source": []
  }
 ],
 "metadata": {
  "kernelspec": {
   "display_name": "Python 3",
   "language": "python",
   "name": "python3"
  },
  "language_info": {
   "codemirror_mode": {
    "name": "ipython",
    "version": 3
   },
   "file_extension": ".py",
   "mimetype": "text/x-python",
   "name": "python",
   "nbconvert_exporter": "python",
   "pygments_lexer": "ipython3",
   "version": "3.9.1"
  }
 },
 "nbformat": 4,
 "nbformat_minor": 4
}
