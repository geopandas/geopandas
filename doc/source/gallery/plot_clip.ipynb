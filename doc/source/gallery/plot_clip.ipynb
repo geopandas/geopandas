{
  "cells": [
    {
      "cell_type": "code",
      "execution_count": null,
      "metadata": {
        "collapsed": false
      },
      "outputs": [],
      "source": [
        "%matplotlib inline"
      ]
    },
    {
      "cell_type": "markdown",
      "metadata": {},
      "source": [
        "\nClip Vector Data with GeoPandas\n==================================================================\n\nLearn how to clip geometries to the boundary of a polygon geometry\nusing GeoPandas.\n\n.. currentmodule:: geopandas\n"
      ]
    },
    {
      "cell_type": "markdown",
      "metadata": {},
      "source": [
        "The example below shows you how to clip a set of vector geometries\nto the spatial extent / shape of another vector object. Both sets of geometries\nmust be opened with GeoPandas as GeoDataFrames and be in the same Coordinate\nReference System (CRS) for the :func:`clip` function in GeoPandas to work.\n\nThis example uses GeoPandas example data ``'naturalearth_cities'`` and\n``'naturalearth_lowres'``, alongside a custom rectangle geometry made with\nshapely and then turned into a GeoDataFrame.\n\n<div class=\"alert alert-info\"><h4>Note</h4><p>The object to be clipped will be clipped to the full extent of the clip\n   object. If there are multiple polygons in clip object, the input data will\n   be clipped to the total boundary of all polygons in clip object.</p></div>\n\n"
      ]
    },
    {
      "cell_type": "markdown",
      "metadata": {},
      "source": [
        "Import Packages\n---------------\n\nTo begin, import the needed packages.\n\n"
      ]
    },
    {
      "cell_type": "code",
      "execution_count": null,
      "metadata": {
        "collapsed": false
      },
      "outputs": [],
      "source": [
        "import matplotlib.pyplot as plt\nimport geopandas\nfrom shapely.geometry import Polygon"
      ]
    },
    {
      "cell_type": "markdown",
      "metadata": {},
      "source": [
        "Get or Create Example Data\n--------------------------\n\nBelow, the example GeoPandas data is imported and opened as a GeoDataFrame.\nAdditionally, a polygon is created with shapely and then converted into a\nGeoDataFrame with the same CRS as the GeoPandas world dataset.\n\n"
      ]
    },
    {
      "cell_type": "code",
      "execution_count": null,
      "metadata": {
        "collapsed": false
      },
      "outputs": [],
      "source": [
        "capitals = geopandas.read_file(geopandas.datasets.get_path(\"naturalearth_cities\"))\nworld = geopandas.read_file(geopandas.datasets.get_path(\"naturalearth_lowres\"))\n\n# Create a subset of the world data that is just the South American continent\nsouth_america = world[world[\"continent\"] == \"South America\"]\n\n# Create a custom polygon\npolygon = Polygon([(0, 0), (0, 90), (180, 90), (180, 0), (0, 0)])\npoly_gdf = geopandas.GeoDataFrame([1], geometry=[polygon], crs=world.crs)"
      ]
    },
    {
      "cell_type": "markdown",
      "metadata": {},
      "source": [
        "Plot the Unclipped Data\n-----------------------\n\n"
      ]
    },
    {
      "cell_type": "code",
      "execution_count": null,
      "metadata": {
        "collapsed": false
      },
      "outputs": [],
      "source": [
        "fig, (ax1, ax2) = plt.subplots(2, 1, figsize=(12, 8))\nworld.plot(ax=ax1)\npoly_gdf.boundary.plot(ax=ax1, color=\"red\")\nsouth_america.boundary.plot(ax=ax2, color=\"green\")\ncapitals.plot(ax=ax2, color=\"purple\")\nax1.set_title(\"All Unclipped World Data\", fontsize=20)\nax2.set_title(\"All Unclipped Capital Data\", fontsize=20)\nax1.set_axis_off()\nax2.set_axis_off()\nplt.show()"
      ]
    },
    {
      "cell_type": "markdown",
      "metadata": {},
      "source": [
        "Clip the Data\n--------------\n\nWhen you call :func:`clip`, the first object called is the object that will\nbe clipped. The second object called is the clip extent. The returned output\nwill be a new clipped GeoDataframe. All of the attributes for each returned\ngeometry will be retained when you clip.\n\n<div class=\"alert alert-info\"><h4>Note</h4><p>Recall that the data must be in the same CRS in order to use the\n   :func:`clip` function. If the data are not in the same CRS, be sure to use\n   the GeoPandas :meth:`~GeoDataFrame.to_crs` method to ensure both datasets\n   are in the same CRS.</p></div>\n\n"
      ]
    },
    {
      "cell_type": "markdown",
      "metadata": {},
      "source": [
        "Clip the World Data\n--------------------\n\n"
      ]
    },
    {
      "cell_type": "code",
      "execution_count": null,
      "metadata": {
        "collapsed": false
      },
      "outputs": [],
      "source": [
        "world_clipped = geopandas.clip(world, polygon)\n\n# Plot the clipped data\n# The plot below shows the results of the clip function applied to the world\n# sphinx_gallery_thumbnail_number = 2\nfig, ax = plt.subplots(figsize=(12, 8))\nworld_clipped.plot(ax=ax, color=\"purple\")\nworld.boundary.plot(ax=ax)\npoly_gdf.boundary.plot(ax=ax, color=\"red\")\nax.set_title(\"World Clipped\", fontsize=20)\nax.set_axis_off()\nplt.show()"
      ]
    },
    {
      "cell_type": "markdown",
      "metadata": {},
      "source": [
        "Clip the Capitals Data\n----------------------\n\n"
      ]
    },
    {
      "cell_type": "code",
      "execution_count": null,
      "metadata": {
        "collapsed": false
      },
      "outputs": [],
      "source": [
        "capitals_clipped = geopandas.clip(capitals, south_america)\n\n# Plot the clipped data\n# The plot below shows the results of the clip function applied to the capital cities\nfig, ax = plt.subplots(figsize=(12, 8))\ncapitals_clipped.plot(ax=ax, color=\"purple\")\nsouth_america.boundary.plot(ax=ax, color=\"green\")\nax.set_title(\"Capitals Clipped\", fontsize=20)\nax.set_axis_off()\nplt.show()"
      ]
    }
  ],
  "metadata": {
    "kernelspec": {
      "display_name": "Python 3",
      "language": "python",
      "name": "python3"
    },
    "language_info": {
      "codemirror_mode": {
        "name": "ipython",
        "version": 3
      },
      "file_extension": ".py",
      "mimetype": "text/x-python",
      "name": "python",
      "nbconvert_exporter": "python",
      "pygments_lexer": "ipython3",
      "version": "3.7.6"
    }
  },
  "nbformat": 4,
  "nbformat_minor": 0
}