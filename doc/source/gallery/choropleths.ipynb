{
 "cells": [
  {
   "cell_type": "markdown",
   "metadata": {},
   "source": [
    "# Choropleth classification schemes from PySAL for use with GeoPandas\n",
    "<img src=\"http://pysal.readthedocs.io/en/latest/_static/images/socal_3.jpg\" width=\"200\" align=\"right\" alt=\"PySAL image\" title=\"PySAL image\">\n",
    "PySAL is a [Spatial Analysis Library](), which packages fast spatial algorithms used in various fields. These include Exploratory spatial data analysis, spatial inequality analysis, spatial analysis on networks, spatial dynamics, and many more.\n",
    "\n",
    "It is used under the hood in geopandas when plotting measures with a set of colors. There are many ways to classify data into different bins, depending on a number of classification schemes.\n",
    "\n",
    "<img src=\"http://alumni.media.mit.edu/~tpminka/courses/36-350.2001/lectures/day11/boston-kmeans.png\" width=\"300\">\n",
    "\n",
    "For example, if we have 20 countries whose average annual temperature varies between 5C and 25C, we can classify them in 4 bins by:\n",
    "* Quantiles\n",
    "    - Separates the rows into equal parts, 5 countries per bin.\n",
    "* Equal Intervals\n",
    "    - Separates the measure's interval into equal parts, 5C per bin.\n",
    "* Natural Breaks (Fischer Jenks)\n",
    "    - This algorithm tries to split the rows into naturaly occurring clusters. The numbers per bin will depend on how the observations are located on the interval."
   ]
  },
  {
   "cell_type": "code",
   "execution_count": null,
   "metadata": {
    "ExecuteTime": {
     "end_time": "2017-12-15T21:29:37.736444Z",
     "start_time": "2017-12-15T21:29:37.716444Z"
    }
   },
   "outputs": [],
   "source": [
    "import geopandas as gpd\n",
    "import matplotlib.pyplot as plt"
   ]
  },
  {
   "cell_type": "code",
   "execution_count": null,
   "metadata": {
    "ExecuteTime": {
     "end_time": "2017-12-15T21:29:39.866422Z",
     "start_time": "2017-12-15T21:29:39.846422Z"
    }
   },
   "outputs": [],
   "source": [
    "# We use a PySAL example shapefile\n",
    "import libpysal as ps\n",
    "\n",
    "pth = ps.examples.get_path(\"columbus.shp\")\n",
    "tracts = gpd.GeoDataFrame.from_file(pth)\n",
    "print('Observations, Attributes:',tracts.shape)\n",
    "tracts.head()"
   ]
  },
  {
   "cell_type": "markdown",
   "metadata": {},
   "source": [
    "## Plotting the CRIME variable\n",
    "In this example, we are taking a look at neighbourhood-level statistics for the city of Columbus, OH. We'd like to have an idea of how the crime rate variable is distributed around the city.\n",
    "\n",
    "From the [shapefile's metadata](https://github.com/pysal/pysal/blob/master/pysal/examples/columbus/columbus.html):\n",
    ">**CRIME**: residential burglaries and vehicle thefts per 1000 households"
   ]
  },
  {
   "cell_type": "code",
   "execution_count": null,
   "metadata": {},
   "outputs": [],
   "source": [
    "# Let's take a look at how the CRIME variable is distributed with a histogram\n",
    "tracts['CRIME'].hist(bins=20)\n",
    "plt.xlabel('CRIME\\nResidential burglaries and vehicle thefts per 1000 households')\n",
    "plt.ylabel('Number of neighbourhoods')\n",
    "plt.title('Distribution of neighbourhoods by crime rate in Columbus, OH')\n",
    "plt.show()"
   ]
  },
  {
   "cell_type": "markdown",
   "metadata": {},
   "source": [
    "Now let's see what it looks like without a classification scheme:"
   ]
  },
  {
   "cell_type": "code",
   "execution_count": null,
   "metadata": {
    "ExecuteTime": {
     "end_time": "2017-12-15T21:29:54.097280Z",
     "start_time": "2017-12-15T21:29:53.766283Z"
    },
    "tags": [
     "nbsphinx-thumbnail"
    ]
   },
   "outputs": [],
   "source": [
    "tracts.plot(column='CRIME', cmap='OrRd', edgecolor='k', legend=True)"
   ]
  },
  {
   "cell_type": "markdown",
   "metadata": {},
   "source": [
    "All the 49 neighbourhoods are colored along a white-to-dark-red gradient, but the human eye can have a hard time comparing the color of shapes that are distant one to the other. In this case, it is especially hard to rank the peripheral districts colored in beige.\n",
    "\n",
    "Instead, we'll classify them in color bins."
   ]
  },
  {
   "cell_type": "markdown",
   "metadata": {},
   "source": [
    "## Classification by quantiles\n",
    ">QUANTILES will create attractive maps that place an equal number of observations in each class: If you have 30 counties and 6 data classes, you’ll have 5 counties in each class. The problem with quantiles is that you can end up with classes that have very different numerical ranges (e.g., 1-4, 4-9, 9-250)."
   ]
  },
  {
   "cell_type": "code",
   "execution_count": null,
   "metadata": {
    "ExecuteTime": {
     "end_time": "2017-12-15T21:30:30.408917Z",
     "start_time": "2017-12-15T21:30:30.088920Z"
    }
   },
   "outputs": [],
   "source": [
    "# Splitting the data in three shows some spatial clustering around the center\n",
    "tracts.plot(column='CRIME', scheme='quantiles', k=3, cmap='OrRd', edgecolor='k', legend=True)"
   ]
  },
  {
   "cell_type": "code",
   "execution_count": null,
   "metadata": {
    "ExecuteTime": {
     "end_time": "2017-12-15T21:28:00.376417Z",
     "start_time": "2017-12-15T21:27:57.039Z"
    }
   },
   "outputs": [],
   "source": [
    "# We can also see where the top and bottom halves are located\n",
    "tracts.plot(column='CRIME', scheme='quantiles', k=2, cmap='OrRd', edgecolor='k', legend=True)"
   ]
  },
  {
   "cell_type": "markdown",
   "metadata": {},
   "source": [
    "## Classification by equal intervals\n",
    ">EQUAL INTERVAL divides the data into equal size classes (e.g., 0-10, 10-20, 20-30, etc.) and works best on data that is generally spread across the entire range. CAUTION: Avoid equal interval if your data are skewed to one end or if you have one or two really large outlier values."
   ]
  },
  {
   "cell_type": "code",
   "execution_count": null,
   "metadata": {
    "ExecuteTime": {
     "end_time": "2017-12-15T21:28:00.376417Z",
     "start_time": "2017-12-15T21:27:57.045Z"
    }
   },
   "outputs": [],
   "source": [
    "tracts.plot(column='CRIME', scheme='equal_interval', k=4, cmap='OrRd', edgecolor='k', legend=True)"
   ]
  },
  {
   "cell_type": "code",
   "execution_count": null,
   "metadata": {
    "ExecuteTime": {
     "end_time": "2017-12-15T21:28:00.386417Z",
     "start_time": "2017-12-15T21:27:57.048Z"
    }
   },
   "outputs": [],
   "source": [
    "# No legend here as we'd be out of space\n",
    "tracts.plot(column='CRIME', scheme='equal_interval', k=12, cmap='OrRd', edgecolor='k')"
   ]
  },
  {
   "cell_type": "markdown",
   "metadata": {},
   "source": [
    "## Classificaton by natural breaks\n",
    ">NATURAL BREAKS is a kind of “optimal” classification scheme that finds class breaks that will minimize within-class variance and maximize between-class differences. One drawback of this approach is each dataset generates a unique classification solution, and if you need to make comparison across maps, such as in an atlas or a series (e.g., one map each for 1980, 1990, 2000) you might want to use a single scheme that can be applied across all of the maps."
   ]
  },
  {
   "cell_type": "code",
   "execution_count": null,
   "metadata": {
    "ExecuteTime": {
     "end_time": "2017-12-15T21:28:00.376417Z",
     "start_time": "2017-12-15T21:27:57.042Z"
    }
   },
   "outputs": [],
   "source": [
    "# Compare this to the previous 3-bin figure with quantiles\n",
    "tracts.plot(column='CRIME', scheme='fisher_jenks', k=3, cmap='OrRd', edgecolor='k', legend=True)"
   ]
  },
  {
   "cell_type": "markdown",
   "metadata": {},
   "source": [
    "## Other classification schemes in PySAL\n",
    "\n",
    "Geopandas includes only the most used classifiers found in PySAL. In order to use the others, you will need to add them as additional columns to your GeoDataFrame.\n",
    "\n",
    ">The max-p algorithm determines the number of regions (p) endogenously based on a set of areas, a matrix of attributes on each area and a floor constraint. The floor constraint defines the minimum bound that a variable must reach for each region; for example, a constraint might be the minimum population each region must have. max-p further enforces a contiguity constraint on the areas within regions."
   ]
  },
  {
   "cell_type": "code",
   "execution_count": null,
   "metadata": {},
   "outputs": [],
   "source": [
    "def max_p(values, k):\n",
    "    \"\"\"\n",
    "    Given a list of values and `k` bins,\n",
    "    returns a list of their Maximum P bin number.\n",
    "    \"\"\"\n",
    "    from mapclassify import MaxP\n",
    "    binning = MaxP(values, k=k)\n",
    "    return binning.yb\n",
    "\n",
    "tracts['Max_P'] = max_p(tracts['CRIME'].values, k=5)\n",
    "tracts.head()"
   ]
  },
  {
   "cell_type": "code",
   "execution_count": null,
   "metadata": {},
   "outputs": [],
   "source": [
    "tracts.plot(column='Max_P', cmap='OrRd', edgecolor='k', categorical=True, legend=True)"
   ]
  },
  {
   "cell_type": "code",
   "execution_count": null,
   "metadata": {},
   "outputs": [],
   "source": []
  }
 ],
 "metadata": {
  "kernelspec": {
   "display_name": "stable",
   "language": "python",
   "name": "stable"
  },
  "language_info": {
   "codemirror_mode": {
    "name": "ipython",
    "version": 3
   },
   "file_extension": ".py",
   "mimetype": "text/x-python",
   "name": "python",
   "nbconvert_exporter": "python",
   "pygments_lexer": "ipython3",
   "version": "3.8.5"
  }
 },
 "nbformat": 4,
 "nbformat_minor": 4
}
