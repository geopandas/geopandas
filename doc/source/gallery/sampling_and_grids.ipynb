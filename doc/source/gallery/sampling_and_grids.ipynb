{
 "cells": [
  {
   "cell_type": "markdown",
   "id": "f02b5a40-29b6-4d46-abb5-f84d5ee4da56",
   "metadata": {},
   "source": [
    "# Sampling Points and Building Grids"
   ]
  },
  {
   "cell_type": "markdown",
   "id": "f2fa64d9-7781-4357-8381-6ff64eff7379",
   "metadata": {},
   "source": [
    "Learn how to sample grids and random points using GeoPandas. \n",
    "\n",
    "The example below shows you how to sample random locations and grid points from shapes in GeoPandas GeoDataFrames. We will discuss both how to sample points at random *inside of* individual shapes, and also how to build grids that *cover* an entire GeoDataFrame. These are contained within two separate functions: the `.sample_points()` method of GeoDataFrames and GeoSeries allows us to sample points *within* geometries, and the `geopandas.tools.grids.make_grid()` function allows us to *cover* geometries with grids.  "
   ]
  },
  {
   "cell_type": "markdown",
   "id": "ae0cc935-8940-4cfb-9a62-d3174fc77687",
   "metadata": {},
   "source": [
    "## Import Packages\n",
    "\n",
    "To begin with, we need to import packages we'll use: "
   ]
  },
  {
   "cell_type": "code",
   "execution_count": null,
   "id": "1b3b0e6e-221c-4b8e-baf8-92bf07e806ea",
   "metadata": {},
   "outputs": [],
   "source": [
    "import matplotlib.pyplot as plt\n",
    "import geopandas"
   ]
  },
  {
   "cell_type": "markdown",
   "id": "9e5ee97a-6647-4686-a3a0-f3dfb7228cd1",
   "metadata": {},
   "source": [
    "## Get example data\n",
    "\n",
    "For this example, we will use the new york borough example data (`nybb`) provided with GeoPandas. "
   ]
  },
  {
   "cell_type": "code",
   "execution_count": null,
   "id": "d013124f-4af5-4380-bf45-aa5fd4887c63",
   "metadata": {},
   "outputs": [],
   "source": [
    "nybb = geopandas.read_file(geopandas.datasets.get_path(\"nybb\"))"
   ]
  },
  {
   "cell_type": "markdown",
   "id": "d4703589-f6b5-46a3-9540-ec9a52716747",
   "metadata": {},
   "source": [
    "To see what this looks like, view the dataframe:"
   ]
  },
  {
   "cell_type": "code",
   "execution_count": null,
   "id": "4f9001bc-0839-4dc0-9d1d-a6d73f5fbfaf",
   "metadata": {},
   "outputs": [],
   "source": [
    "nybb"
   ]
  },
  {
   "cell_type": "markdown",
   "id": "1c950697-d560-4d98-bee6-7e82c6faf7e7",
   "metadata": {},
   "source": [
    "Or visualize the data:"
   ]
  },
  {
   "cell_type": "code",
   "execution_count": null,
   "id": "ec65cc25-2baa-431f-adea-9275c231ac47",
   "metadata": {},
   "outputs": [],
   "source": [
    "nybb.explore()"
   ]
  },
  {
   "cell_type": "markdown",
   "id": "99883485-2e67-4da8-a3d8-d4724ef8b2a1",
   "metadata": {},
   "source": [
    "## Sampling random points from within geometries\n",
    "\n",
    "To sample points from within a GeoDataFrame, use the `sample_points()` method:"
   ]
  },
  {
   "cell_type": "code",
   "execution_count": null,
   "id": "93eb00c5-cf5a-48d6-a8ee-2d30faf24696",
   "metadata": {},
   "outputs": [],
   "source": [
    "sampled_points = nybb.sample_points()\n",
    "sampled_points.explore()"
   ]
  },
  {
   "cell_type": "markdown",
   "id": "20abb590-3346-4eaa-9aa8-31ab87c49cf5",
   "metadata": {},
   "source": [
    "By default, ten points are sampled from within each feature. To specify different sizes, provide an explicit number of points to sample. For example, we can sample 200 points randomly from each feature: "
   ]
  },
  {
   "cell_type": "code",
   "execution_count": null,
   "id": "76d8658d-7ee8-4ef0-84b4-b8883c921687",
   "metadata": {},
   "outputs": [],
   "source": [
    "n200_sampled_points = nybb.sample_points(200)\n",
    "n200_sampled_points.explore()"
   ]
  },
  {
   "cell_type": "markdown",
   "id": "14b8628f-3d5e-4fbb-b26e-28cc042ff755",
   "metadata": {},
   "source": [
    "This functionality also works for line geometries. For example, let's look only at the boundary of Manhattan Island:"
   ]
  },
  {
   "cell_type": "code",
   "execution_count": null,
   "id": "c47472fc-7ca5-4f69-b86f-93c25a9f2b03",
   "metadata": {},
   "outputs": [],
   "source": [
    "manhattan_parts = nybb.iloc[[3]].explode()\n",
    "manhattan_island = manhattan_parts.iloc[[30]]\n",
    "manhattan_island.boundary.explore()"
   ]
  },
  {
   "cell_type": "markdown",
   "id": "54280acd-e449-4528-ac7c-c1b2dbbcdc2f",
   "metadata": {},
   "source": [
    "Sampling randomly from along this boundary can use the same `sample_points()` method:"
   ]
  },
  {
   "cell_type": "code",
   "execution_count": null,
   "id": "358822ef-a0c6-40cd-9e35-9a688c56f361",
   "metadata": {},
   "outputs": [],
   "source": [
    "manhattan_border_points = manhattan_island.boundary.sample_points(200)\n",
    "m = manhattan_island.explore()\n",
    "manhattan_border_points.explore(m=m, color='red')"
   ]
  },
  {
   "cell_type": "markdown",
   "id": "fa0f5a05-e7cc-44cf-b6ac-40afd9753f23",
   "metadata": {},
   "source": [
    "Keep in mind that sampled points are returned as a single multi-part geometry, and that the distances over the line segments are calculated *along* the line. "
   ]
  },
  {
   "cell_type": "code",
   "execution_count": null,
   "id": "b0ccad29-d29f-4da1-9151-692bfd20d533",
   "metadata": {},
   "outputs": [],
   "source": [
    "manhattan_border_points"
   ]
  },
  {
   "cell_type": "markdown",
   "id": "125f19d9-b3f0-4ab9-b44a-41be1a8cc388",
   "metadata": {},
   "source": [
    "If you want to separate out the individual sampled points, use the `.explode()` method on the dataframe:"
   ]
  },
  {
   "cell_type": "code",
   "execution_count": null,
   "id": "265f2194-a94f-4a3d-9ae8-f7da55893e90",
   "metadata": {},
   "outputs": [],
   "source": [
    "manhattan_border_points.explode().reset_index(drop=True).head()"
   ]
  },
  {
   "cell_type": "markdown",
   "id": "0e185b49-0501-4b00-b29f-199d0cd521e8",
   "metadata": {},
   "source": [
    "## Building fixed grids over an entire GeoDataFrame"
   ]
  },
  {
   "cell_type": "markdown",
   "id": "2c77126d-6006-45ba-9d56-e786f84e7fc1",
   "metadata": {},
   "source": [
    "By default, points are sampled within each geometry from what's known as a *Poisson point process* ([Wikipedia](https://en.wikipedia.org/wiki/Poisson_point_process)). Practically speaking, this means that the locations of points are drawn uniformly at random from within the geometry, and their locations do not depend on one another. \n",
    "\n",
    "A different kind of sampling can use *gridding*, where points are spaced evenly across a shape. We support two kinds of grids, \"square\" and \"hexagonal\". We can build both of them to cover an entire study area using the `geopandas.grids.make_grid` function: "
   ]
  },
  {
   "cell_type": "code",
   "execution_count": null,
   "id": "3e6d484c-8202-4a00-9677-72f5079f5528",
   "metadata": {},
   "outputs": [],
   "source": [
    "from geopandas.tools import grids"
   ]
  },
  {
   "cell_type": "code",
   "execution_count": null,
   "id": "0f5de039-6ed8-4ae0-96f3-4c42ceffdcbd",
   "metadata": {},
   "outputs": [],
   "source": [
    "squaregrid_cover = grids.make_grid(nybb, size=30, method='square')"
   ]
  },
  {
   "cell_type": "markdown",
   "id": "9de65699-2501-4d79-a949-88d3d5edd6fd",
   "metadata": {},
   "source": [
    "For a square grid, points are arranged in squares. By default, grids are also clipped to the extent of the shapes being gridded:"
   ]
  },
  {
   "cell_type": "code",
   "execution_count": null,
   "id": "30557c89-47ad-475c-a638-8694ce6edd81",
   "metadata": {},
   "outputs": [],
   "source": [
    "squaregrid_cover.explore(color='red')"
   ]
  },
  {
   "cell_type": "markdown",
   "id": "9734ae2e-d882-43ad-8f8d-d942809dac14",
   "metadata": {},
   "source": [
    "For a \"hexagonal\" grid, points are arranged in hexagons (or triangles, depending on your perspective): "
   ]
  },
  {
   "cell_type": "code",
   "execution_count": null,
   "id": "9245b14b-ce1d-45eb-bbfe-95b10f2b0c6c",
   "metadata": {},
   "outputs": [],
   "source": [
    "hexgrid_cover = grids.make_grid(nybb, size=30, method='hex')\n",
    "hexgrid_cover.explore(color='blue')"
   ]
  },
  {
   "cell_type": "markdown",
   "id": "0e052d6a-aabd-431c-8ef1-0c3d7d3822eb",
   "metadata": {},
   "source": [
    "To sample a grid like this from *within* a shape, you can use the `.sample_points()` method with the option `method='grid'`. This grids *each* shape separately, and supports similar options to `geopandas.grids.make_grid()` above. However, this time, the style of grid is controlled using a `tile` argument, since `method` is used to choose between \"random\" and \"grid\":"
   ]
  },
  {
   "cell_type": "code",
   "execution_count": null,
   "id": "e6e54965-b474-4cb9-a1e6-77956b458845",
   "metadata": {},
   "outputs": [],
   "source": [
    "nybb.sample_points(method='grid').explore()"
   ]
  },
  {
   "cell_type": "markdown",
   "id": "05f4a760-92c0-44dc-bfa4-43383cd5a248",
   "metadata": {},
   "source": [
    "Note how the densities of the grid varies by shape in this case. The `sample_points()` is attempting to sample the same \"size\" of grid for each shape, so smaller shapes will have more points. "
   ]
  },
  {
   "cell_type": "code",
   "execution_count": null,
   "id": "38dd26d2-d9e5-4c25-86d9-cb0108f4ca64",
   "metadata": {},
   "outputs": [],
   "source": [
    "nybb.sample_points(method='grid', tile='hex').explore()"
   ]
  },
  {
   "cell_type": "markdown",
   "id": "a60b0d62-d46d-4e3e-a9b2-7ea8ccad8511",
   "metadata": {},
   "source": [
    "## Sampling random grids over polygons"
   ]
  },
  {
   "cell_type": "markdown",
   "id": "470eff07-8c2f-4e99-98b8-e1aad977bf49",
   "metadata": {},
   "source": [
    "In addition to so-called \"fixed\" grids, which are the same every time they are sampled, GeoPandas also supports \"random\" grids. These experience a different shift and rotation each time they are sampled. \n",
    "\n",
    "For example, we can build two \"random\" grids over New York City using the same `sample_points()` function, but requesting `method='random'` and setting a `tile` shape: "
   ]
  },
  {
   "cell_type": "code",
   "execution_count": null,
   "id": "28f0107b-52f3-462d-8515-6b45fbb56df2",
   "metadata": {},
   "outputs": [],
   "source": [
    "sample_1 = nybb.sample_points(method='random', tile='square')\n",
    "sample_2 = nybb.sample_points(method='random', tile='square')"
   ]
  },
  {
   "cell_type": "markdown",
   "id": "9de5272b-1c07-4062-a8e5-e2abcd84f846",
   "metadata": {},
   "source": [
    "Then, to see that the two grids are distinct, we can overlay them:"
   ]
  },
  {
   "cell_type": "code",
   "execution_count": null,
   "id": "6af421a5-262b-411c-a675-7e815cc3ee82",
   "metadata": {},
   "outputs": [],
   "source": [
    "m = sample_1.explore(color='red', style_kwds=dict(opacity=.4))\n",
    "sample_2.explore(m=m, color='blue', style_kwds=dict(opacity=.4))"
   ]
  },
  {
   "cell_type": "markdown",
   "id": "3a854a0c-fbb0-44a7-91a2-94197513e70e",
   "metadata": {},
   "source": [
    "To sample random grids from over an entire study area, use the bounding box of the GeoDataFrame:"
   ]
  },
  {
   "cell_type": "code",
   "execution_count": null,
   "id": "e3c57f16-4264-4cf2-b056-4ca979032500",
   "metadata": {},
   "outputs": [],
   "source": [
    "from shapely.geometry import box"
   ]
  },
  {
   "cell_type": "code",
   "execution_count": null,
   "id": "cbdde1bb-3c28-451c-8418-db94c921bf4a",
   "metadata": {},
   "outputs": [],
   "source": [
    "bounds = box(*nybb.total_bounds)\n",
    "nybb_bbox = geopandas.GeoSeries(bounds, crs=nybb.crs)"
   ]
  },
  {
   "cell_type": "code",
   "execution_count": null,
   "id": "798c0ae6-a268-47a4-89ea-6330baff1719",
   "metadata": {},
   "outputs": [],
   "source": [
    "sample_1 = nybb_bbox.sample_points(method='random', tile='hex', size=30)\n",
    "sample_2 = nybb_bbox.sample_points(method='random', tile='hex', size=30)"
   ]
  },
  {
   "cell_type": "code",
   "execution_count": null,
   "id": "3f8f429d-b670-4181-ae54-5993e83142ee",
   "metadata": {},
   "outputs": [],
   "source": [
    "m = sample_1.explore(color='red', style_kwds=dict(opacity=.4))\n",
    "sample_2.explore(m=m, color='blue', style_kwds=dict(opacity=.4))"
   ]
  },
  {
   "cell_type": "markdown",
   "id": "7f041b05-7c12-4a2c-a360-35bc5c79f1f4",
   "metadata": {},
   "source": [
    "## Sampling from more complicated point pattern processes\n",
    "\n",
    "Finally, the `sample_points()` method can use different sampling processes than those described above, so long as they are implemented in the `pointpats` package for spatial point pattern analysis. For example, a \"cluster-poisson\" process is a spatially-random cluster process where the \"seeds\" of clusters are chosen randomly, and then points around these clusters are distributed according again randomly. \n",
    "\n",
    "To see what this looks like, consider the following, where ten points will be distributed around four seeds within each of the boroughs in New York City:"
   ]
  },
  {
   "cell_type": "code",
   "execution_count": null,
   "id": "7868221c-ad0a-44e6-9f2f-41c4d6ac0fcf",
   "metadata": {},
   "outputs": [],
   "source": [
    "sample_t = nybb.sample_points(method='cluster_poisson', size=50, n_seeds=4)"
   ]
  },
  {
   "cell_type": "code",
   "execution_count": null,
   "id": "abd12d6e-533d-4808-86d7-9df4c097c077",
   "metadata": {},
   "outputs": [],
   "source": [
    "sample_t.explore()"
   ]
  },
  {
   "cell_type": "markdown",
   "id": "9d4bbc28-1377-4245-b88f-daa00abe03e3",
   "metadata": {},
   "source": [
    "## Conclusion\n",
    "\n",
    "- use the `.sample_points()` methods to build random samples, random grids, or fixed grids within the geometries of each row of a dataframe. \n",
    "- use `geopandas.tools.grids.make_grid()` to build grids that *cover* a given geopandas dataframe. "
   ]
  }
 ],
 "metadata": {
  "kernelspec": {
   "display_name": "analysis",
   "language": "python",
   "name": "analysis"
  },
  "language_info": {
   "codemirror_mode": {
    "name": "ipython",
    "version": 3
   },
   "file_extension": ".py",
   "mimetype": "text/x-python",
   "name": "python",
   "nbconvert_exporter": "python",
   "pygments_lexer": "ipython3",
   "version": "3.10.1"
  }
 },
 "nbformat": 4,
 "nbformat_minor": 5
}
