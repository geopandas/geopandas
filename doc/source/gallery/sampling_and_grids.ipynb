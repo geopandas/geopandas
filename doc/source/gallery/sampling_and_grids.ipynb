{
 "cells": [
  {
   "cell_type": "markdown",
   "id": "f02b5a40-29b6-4d46-abb5-f84d5ee4da56",
   "metadata": {},
   "source": [
    "# Sampling Points and Building Grids"
   ]
  },
  {
   "cell_type": "code",
   "execution_count": null,
   "id": "1a7ade99-d230-4946-998d-9f1655fbdc3b",
   "metadata": {},
   "outputs": [],
   "source": []
  }
 ],
 "metadata": {
  "kernelspec": {
   "display_name": "analysis",
   "language": "python",
   "name": "analysis"
  },
  "language_info": {
   "codemirror_mode": {
    "name": "ipython",
    "version": 3
   },
   "file_extension": ".py",
   "mimetype": "text/x-python",
   "name": "python",
   "nbconvert_exporter": "python",
   "pygments_lexer": "ipython3",
   "version": "3.10.1"
  }
 },
 "nbformat": 4,
 "nbformat_minor": 5
}
