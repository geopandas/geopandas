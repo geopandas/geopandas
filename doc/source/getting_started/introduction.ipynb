{
 "cells": [
  {
   "cell_type": "markdown",
   "metadata": {},
   "source": [
    "# Introduction to GeoPandas\n",
    "\n",
    "- Concepts\n",
    "    - quick text - pandas + geo\n",
    "        - link to pandas intro\n",
    "    - diagram\n",
    "    - explain geometry column (GeoSeries)\n",
    "    - explain CRS\n",
    "- IO\n",
    "- simple\n",
    "    - area,length\n",
    "    - distance\n",
    "- mapping\n",
    "- geometry creation\n",
    "    - exterior/boundary\n",
    "    - buffer\n",
    "- relations\n",
    "    - intersects\n",
    "    - within\n",
    "- spatial join\n",
    "- overlay\n",
    "- clip\n",
    "- projections\n"
   ]
  },
  {
   "cell_type": "markdown",
   "metadata": {},
   "source": [
    "This quick tutorial provides an introduction to the key concepts of GeoPandas. In about 10 minutes, we'll describe the basics which allow you to start your own projects.\n",
    "\n",
    "## Concepts\n",
    "\n",
    "GeoPandas, as the name suggests, extends popular data science library [`pandas`](https://pandas.pydata.org) by adding a support for geospatial data. If you are not familiar with `pandas`, we recommend you take quick look at their [Getting started documentation](https://pandas.pydata.org/docs/getting_started/index.html#getting-started) before proceeding.\n",
    "\n",
    "The core data structure in GeoPandas is `geopandas.GeoDataFrame`, which is a subclass of `pandas.DataFrame` able to store geometry columns and perform spatial operations. Geometries are handled by `geopandas.GeoSeries` a subclass of `pandas.Series`. Therefore, your `GeoDataFrame` is a combination of `Series` with your data (numerical, boolean, text etc.) and `GeoSeries` with geometries (points, polygons etc.).\n",
    "\n",
    "![geodataframe schema](../_static/dataframe.svg)"
   ]
  },
  {
   "cell_type": "code",
   "execution_count": null,
   "metadata": {},
   "outputs": [],
   "source": []
  }
 ],
 "metadata": {
  "kernelspec": {
   "display_name": "geo_dev",
   "language": "python",
   "name": "geo_dev"
  },
  "language_info": {
   "codemirror_mode": {
    "name": "ipython",
    "version": 3
   },
   "file_extension": ".py",
   "mimetype": "text/x-python",
   "name": "python",
   "nbconvert_exporter": "python",
   "pygments_lexer": "ipython3",
   "version": "3.7.6"
  }
 },
 "nbformat": 4,
 "nbformat_minor": 4
}
