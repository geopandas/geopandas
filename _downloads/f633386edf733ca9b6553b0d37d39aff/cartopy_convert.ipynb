{
  "cells": [
    {
      "cell_type": "code",
      "execution_count": null,
      "metadata": {
        "collapsed": false
      },
      "outputs": [],
      "source": [
        "%matplotlib inline"
      ]
    },
    {
      "cell_type": "markdown",
      "metadata": {},
      "source": [
        "\nPlotting with CartoPy and GeoPandas\n-----------------------------------\n\nConverting between GeoPandas and CartoPy for visualizing data.\n\n`CartoPy <http://scitools.org.uk/cartopy/>`_ is a Python library\nthat specializes in creating geospatial\nvisualizations. It has a slightly different way of representing\nCoordinate Reference Systems (CRS) as well as constructing plots.\nThis example steps through a round-trip transfer of data\nbetween GeoPandas and CartoPy.\n\nFirst we'll load in the data using GeoPandas.\n\n"
      ]
    },
    {
      "cell_type": "code",
      "execution_count": null,
      "metadata": {
        "collapsed": false
      },
      "outputs": [],
      "source": [
        "# sphinx_gallery_thumbnail_number = 7\nimport matplotlib.pyplot as plt\nimport geopandas\nfrom cartopy import crs as ccrs\n\npath = geopandas.datasets.get_path('naturalearth_lowres')\ndf = geopandas.read_file(path)\n# Add a column we'll use later\ndf['gdp_pp'] = df['gdp_md_est'] / df['pop_est']"
      ]
    },
    {
      "cell_type": "markdown",
      "metadata": {},
      "source": [
        "First we'll visualize the map using GeoPandas\n\n"
      ]
    },
    {
      "cell_type": "code",
      "execution_count": null,
      "metadata": {
        "collapsed": false
      },
      "outputs": [],
      "source": [
        "df.plot()"
      ]
    },
    {
      "cell_type": "markdown",
      "metadata": {},
      "source": [
        "Plotting with CartoPy\n=====================\n\nCartopy also handles Shapely objects well, but it uses a different system for\nCRS. To plot this data with CartoPy, we'll first need to project it into a\nnew CRS. We'll use a CRS defined within CartoPy and use the GeoPandas\n``to_crs`` method to make the transformation.\n\n"
      ]
    },
    {
      "cell_type": "code",
      "execution_count": null,
      "metadata": {
        "collapsed": false
      },
      "outputs": [],
      "source": [
        "# Define the CartoPy CRS object.\ncrs = ccrs.AzimuthalEquidistant()\n\n# This can be converted into a `proj4` string/dict compatible with GeoPandas\ncrs_proj4 = crs.proj4_init\ndf_ae = df.to_crs(crs_proj4)\n\n# Here's what the plot looks like in GeoPandas\ndf_ae.plot()"
      ]
    },
    {
      "cell_type": "markdown",
      "metadata": {},
      "source": [
        "Now that our data is in a CRS based off of CartoPy, we can easily\nplot it.\n\n"
      ]
    },
    {
      "cell_type": "code",
      "execution_count": null,
      "metadata": {
        "collapsed": false
      },
      "outputs": [],
      "source": [
        "fig, ax = plt.subplots(subplot_kw={'projection': crs})\nax.add_geometries(df_ae['geometry'], crs=crs)"
      ]
    },
    {
      "cell_type": "markdown",
      "metadata": {},
      "source": [
        "Note that we could have easily done this with an EPSG code like so:\n\n"
      ]
    },
    {
      "cell_type": "code",
      "execution_count": null,
      "metadata": {
        "collapsed": false
      },
      "outputs": [],
      "source": [
        "crs_epsg = ccrs.epsg('3857')\ndf_epsg = df.to_crs(epsg='3857')\n\n# Generate a figure with two axes, one for CartoPy, one for GeoPandas\nfig, axs = plt.subplots(1, 2, subplot_kw={'projection': crs_epsg},\n                        figsize=(10, 5))\n# Make the CartoPy plot\naxs[0].add_geometries(df_epsg['geometry'], crs=crs_epsg,\n                      facecolor='white', edgecolor='black')\n# Make the GeoPandas plot\ndf_epsg.plot(ax=axs[1], color='white', edgecolor='black')"
      ]
    },
    {
      "cell_type": "markdown",
      "metadata": {},
      "source": [
        "CartoPy to GeoPandas\n====================\n\nNext we'll perform a CRS projection in CartoPy, and then convert it\nback into a GeoPandas object.\n\n"
      ]
    },
    {
      "cell_type": "code",
      "execution_count": null,
      "metadata": {
        "collapsed": false
      },
      "outputs": [],
      "source": [
        "crs_new = ccrs.AlbersEqualArea()\nnew_geometries = [crs_new.project_geometry(ii, src_crs=crs)\n                  for ii in df_ae['geometry'].values]\n\nfig, ax = plt.subplots(subplot_kw={'projection': crs_new})\nax.add_geometries(new_geometries, crs=crs_new)"
      ]
    },
    {
      "cell_type": "markdown",
      "metadata": {},
      "source": [
        "Now that we've created new Shapely objects with the CartoPy CRS,\nwe can use this to create a GeoDataFrame.\n\n"
      ]
    },
    {
      "cell_type": "code",
      "execution_count": null,
      "metadata": {
        "collapsed": false
      },
      "outputs": [],
      "source": [
        "df_aea = geopandas.GeoDataFrame(df['gdp_pp'], geometry=new_geometries,\n                                crs=crs_new.proj4_init)\ndf_aea.plot()"
      ]
    },
    {
      "cell_type": "markdown",
      "metadata": {},
      "source": [
        "We can even combine these into the same figure. Here we'll plot the\nshapes of the countries with CartoPy. We'll then calculate the centroid\nof each with GeoPandas and plot it on top.\n\n"
      ]
    },
    {
      "cell_type": "code",
      "execution_count": null,
      "metadata": {
        "collapsed": false
      },
      "outputs": [],
      "source": [
        "# Generate a CartoPy figure and add the countries to it\nfig, ax = plt.subplots(subplot_kw={'projection': crs_new})\nax.add_geometries(new_geometries, crs=crs_new)\n\n# Calculate centroids and plot\ndf_aea_centroids = df_aea.geometry.centroid\ndf_aea_centroids.plot(ax=ax, markersize=5, color='r')\n\nplt.show()"
      ]
    }
  ],
  "metadata": {
    "kernelspec": {
      "display_name": "Python 3",
      "language": "python",
      "name": "python3"
    },
    "language_info": {
      "codemirror_mode": {
        "name": "ipython",
        "version": 3
      },
      "file_extension": ".py",
      "mimetype": "text/x-python",
      "name": "python",
      "nbconvert_exporter": "python",
      "pygments_lexer": "ipython3",
      "version": "3.6.7"
    }
  },
  "nbformat": 4,
  "nbformat_minor": 0
}