{
  "cells": [
    {
      "cell_type": "code",
      "execution_count": null,
      "metadata": {
        "collapsed": false
      },
      "outputs": [],
      "source": [
        "%matplotlib inline"
      ]
    },
    {
      "cell_type": "markdown",
      "metadata": {},
      "source": [
        "\nPlotting with Geoplot and GeoPandas\n-----------------------------------\n\n`Geoplot <https://residentmario.github.io/geoplot/index.html>`_ is a Python\nlibrary providing a selection of easy-to-use geospatial visualizations. It is\nbuilt on top of the lower-level `CartoPy <http://scitools.org.uk/cartopy/>`_,\ncovered in a separate section of this tutorial, and is designed to work with\nGeoPandas input.\n\nThis example is a brief tour of the `geoplot` API. For more details on the\nlibrary refer to `its documentation\n<https://residentmario.github.io/geoplot/index.html>`_.\n\nFirst we'll load in the data using GeoPandas.\n\n"
      ]
    },
    {
      "cell_type": "code",
      "execution_count": null,
      "metadata": {
        "collapsed": false
      },
      "outputs": [],
      "source": [
        "import geopandas\nimport geoplot\n\nworld = geopandas.read_file(\n    geopandas.datasets.get_path('naturalearth_lowres')\n)\nboroughs = geopandas.read_file(\n    geoplot.datasets.get_path('nyc_boroughs')\n)\ncollisions = geopandas.read_file(\n    geoplot.datasets.get_path('nyc_injurious_collisions')\n)"
      ]
    },
    {
      "cell_type": "markdown",
      "metadata": {},
      "source": [
        "Plotting with Geoplot\n=====================\n\nWe start out by replicating the basic GeoPandas world plot using Geoplot.\n\n"
      ]
    },
    {
      "cell_type": "code",
      "execution_count": null,
      "metadata": {
        "collapsed": false
      },
      "outputs": [],
      "source": [
        "geoplot.polyplot(world, figsize=(8, 4))"
      ]
    },
    {
      "cell_type": "markdown",
      "metadata": {},
      "source": [
        "Geoplot can re-project data into any of the map projections provided by\nCartoPy (see the list\n`here <http://scitools.org.uk/cartopy/docs/latest/crs/projections.html>`_).\n\n"
      ]
    },
    {
      "cell_type": "code",
      "execution_count": null,
      "metadata": {
        "collapsed": false
      },
      "outputs": [],
      "source": [
        "# use the Orthographic map projection (e.g. a world globe)\nax = geoplot.polyplot(\n    world, projection=geoplot.crs.Orthographic(), figsize=(8, 4)\n)\nax.outline_patch.set_visible(True)"
      ]
    },
    {
      "cell_type": "markdown",
      "metadata": {},
      "source": [
        "``polyplot`` is trivial and can only plot the geometries you pass to it. If\nyou want to use color as a visual variable, specify a ``choropleth``. Here\nwe sort GDP per person by country into five buckets by color.\n\n"
      ]
    },
    {
      "cell_type": "code",
      "execution_count": null,
      "metadata": {
        "collapsed": false
      },
      "outputs": [],
      "source": [
        "geoplot.choropleth(\n    world, hue=world['gdp_md_est'] / world['pop_est'],\n    cmap='Greens', figsize=(8, 4)\n)"
      ]
    },
    {
      "cell_type": "markdown",
      "metadata": {},
      "source": [
        "If you want to use size as a visual variable, use a ``cartogram``. Here are\npopulation estimates for countries in Africa.\n\n"
      ]
    },
    {
      "cell_type": "code",
      "execution_count": null,
      "metadata": {
        "collapsed": false
      },
      "outputs": [],
      "source": [
        "africa = world.query('continent == \"Africa\"')\nax = geoplot.cartogram(\n    africa, scale='pop_est', limits=(0.2, 1),\n    edgecolor='None', figsize=(7, 8)\n)\ngeoplot.polyplot(africa, edgecolor='gray', ax=ax)"
      ]
    },
    {
      "cell_type": "markdown",
      "metadata": {},
      "source": [
        "If we have data in the shape of points in space, we may generate a\nthree-dimensional heatmap on it using ``kdeplot``.\n\n"
      ]
    },
    {
      "cell_type": "code",
      "execution_count": null,
      "metadata": {
        "collapsed": false
      },
      "outputs": [],
      "source": [
        "ax = geoplot.kdeplot(\n    collisions, clip=boroughs.geometry,\n    shade=True, cmap='Reds',\n    projection=geoplot.crs.AlbersEqualArea())\ngeoplot.polyplot(boroughs, ax=ax, zorder=1)"
      ]
    },
    {
      "cell_type": "markdown",
      "metadata": {},
      "source": [
        "Alternatively, we may partition the space into neighborhoods automatically,\nusing Voronoi tessellation. This is a good way of visually verifying whether\nor not a certain data column is spatially correlated.\n\n"
      ]
    },
    {
      "cell_type": "code",
      "execution_count": null,
      "metadata": {
        "collapsed": false
      },
      "outputs": [],
      "source": [
        "ax = geoplot.voronoi(\n    collisions.head(1000), projection=geoplot.crs.AlbersEqualArea(),\n    clip=boroughs.simplify(0.001),\n    hue='NUMBER OF PERSONS INJURED', cmap='Reds', k=None,\n    legend=True,\n    edgecolor='white'\n)\ngeoplot.polyplot(boroughs, edgecolor='black', zorder=1, ax=ax)"
      ]
    },
    {
      "cell_type": "markdown",
      "metadata": {},
      "source": [
        "These are just some of the plots you can make with Geoplot. There are\nmany other possibilities not covered in this brief introduction. For more\nexamples, refer to the\n`Gallery <https://residentmario.github.io/geoplot/gallery/index.html>`_ in\nthe Geoplot documentation.\n\n"
      ]
    }
  ],
  "metadata": {
    "kernelspec": {
      "display_name": "Python 3",
      "language": "python",
      "name": "python3"
    },
    "language_info": {
      "codemirror_mode": {
        "name": "ipython",
        "version": 3
      },
      "file_extension": ".py",
      "mimetype": "text/x-python",
      "name": "python",
      "nbconvert_exporter": "python",
      "pygments_lexer": "ipython3",
      "version": "3.7.3"
    }
  },
  "nbformat": 4,
  "nbformat_minor": 0
}