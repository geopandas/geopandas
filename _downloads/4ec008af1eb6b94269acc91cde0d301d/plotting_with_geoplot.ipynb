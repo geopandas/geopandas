{
  "cells": [
    {
      "cell_type": "code",
      "execution_count": null,
      "metadata": {
        "collapsed": false
      },
      "outputs": [],
      "source": [
        "%matplotlib inline"
      ]
    },
    {
      "cell_type": "markdown",
      "metadata": {},
      "source": [
        "\nPlotting with Geoplot and GeoPandas\n-----------------------------------\n\n`Geoplot <https://residentmario.github.io/geoplot/index.html>`_ is a Python\nlibrary providing a selection of easy-to-use geospatial visualizations. It is\nbuilt on top of the lower-level `CartoPy <http://scitools.org.uk/cartopy/>`_,\ncovered in a separate section of this tutorial, and is designed to work with\nGeoPandas input.\n\nThis example is a brief tour of the `geoplot` API. For more details on the\nlibrary refer to `its documentation\n<https://residentmario.github.io/geoplot/index.html>`_.\n\nFirst we'll load in the data using GeoPandas.\n\n"
      ]
    },
    {
      "cell_type": "code",
      "execution_count": null,
      "metadata": {
        "collapsed": false
      },
      "outputs": [],
      "source": [
        "import geopandas\n\npath = geopandas.datasets.get_path('naturalearth_lowres')\ndf = geopandas.read_file(path)\n# Add a column we'll use later\ndf['gdp_pp'] = df['gdp_md_est'] / df['pop_est']\n\nboroughs = geopandas.read_file(geopandas.datasets.get_path('nybb')).to_crs(epsg='4326')\ninjurious_collisions = geopandas.read_file(\n    \"https://github.com/ResidentMario/geoplot-data/raw/master/nyc-injurious-collisions.geojson\")"
      ]
    },
    {
      "cell_type": "markdown",
      "metadata": {},
      "source": [
        "Plotting with Geoplot\n=====================\n\nWe start out by replicating the basic GeoPandas world plot using Geoplot.\n\n"
      ]
    },
    {
      "cell_type": "code",
      "execution_count": null,
      "metadata": {
        "collapsed": false
      },
      "outputs": [],
      "source": [
        "import geoplot\n\ngeoplot.polyplot(df, figsize=(8, 4))"
      ]
    },
    {
      "cell_type": "markdown",
      "metadata": {},
      "source": [
        "Geoplot can re-project data into any of the map projections provided by\nCartoPy (see the list\n`here <http://scitools.org.uk/cartopy/docs/latest/crs/projections.html>`_).\n\n"
      ]
    },
    {
      "cell_type": "code",
      "execution_count": null,
      "metadata": {
        "collapsed": false
      },
      "outputs": [],
      "source": [
        "import geoplot.crs as gcrs\nax = geoplot.polyplot(df, projection=gcrs.Orthographic(), figsize=(8, 4))\nax.set_global()\nax.outline_patch.set_visible(True)"
      ]
    },
    {
      "cell_type": "markdown",
      "metadata": {},
      "source": [
        "``polyplot`` is trivial and can only plot the geometries you pass to it. If\nyou want to use color as a visual variable, specify a ``choropleth``. Here\nwe sort GDP per person by country into five buckets by color.\n\n"
      ]
    },
    {
      "cell_type": "code",
      "execution_count": null,
      "metadata": {
        "collapsed": false
      },
      "outputs": [],
      "source": [
        "geoplot.choropleth(df, hue='gdp_pp', cmap='Greens', figsize=(8, 4))"
      ]
    },
    {
      "cell_type": "markdown",
      "metadata": {},
      "source": [
        "If you want to use size as a visual variable, you want a ``cartogram``. Here\nare population estimates for countries in Africa.\n\n"
      ]
    },
    {
      "cell_type": "code",
      "execution_count": null,
      "metadata": {
        "collapsed": false
      },
      "outputs": [],
      "source": [
        "geoplot.cartogram(df[df['continent'] == 'Africa'],\n                  scale='pop_est', limits=(0.2, 1), figsize=(7, 8))"
      ]
    },
    {
      "cell_type": "markdown",
      "metadata": {},
      "source": [
        "If we have data in the shape of points in space, we may generate a\nthree-dimensional heatmap on it using ``kdeplot``. This example also\ndemonstrates how easy it is to stack plots on top of one another.\n\n"
      ]
    },
    {
      "cell_type": "code",
      "execution_count": null,
      "metadata": {
        "collapsed": false
      },
      "outputs": [],
      "source": [
        "ax = geoplot.kdeplot(injurious_collisions.sample(1000),\n                     shade=True, shade_lowest=False,\n                     clip=boroughs.geometry)\ngeoplot.polyplot(boroughs, ax=ax)"
      ]
    },
    {
      "cell_type": "markdown",
      "metadata": {},
      "source": [
        "Alternatively, we may partition the space into neighborhoods automatically,\nusing Voronoi tessellation.\n\n"
      ]
    },
    {
      "cell_type": "code",
      "execution_count": null,
      "metadata": {
        "collapsed": false
      },
      "outputs": [],
      "source": [
        "ax = geoplot.voronoi(\n    injurious_collisions.sample(1000, random_state=42),\n    hue='NUMBER OF PERSONS INJURED', cmap='Reds', scheme='fisher_jenks',\n    clip=boroughs.geometry,\n    linewidth=0)\ngeoplot.polyplot(boroughs, ax=ax)"
      ]
    },
    {
      "cell_type": "markdown",
      "metadata": {},
      "source": [
        "Again, these are just some of the plots you can make with Geoplot. There are\nseveral other possibilities not covered in this brief introduction. For more\nexamples, refer to the\n`Gallery <https://residentmario.github.io/geoplot/gallery.html>`_ in the\nGeoplot documentation.\n\n"
      ]
    }
  ],
  "metadata": {
    "kernelspec": {
      "display_name": "Python 3",
      "language": "python",
      "name": "python3"
    },
    "language_info": {
      "codemirror_mode": {
        "name": "ipython",
        "version": 3
      },
      "file_extension": ".py",
      "mimetype": "text/x-python",
      "name": "python",
      "nbconvert_exporter": "python",
      "pygments_lexer": "ipython3",
      "version": "3.7.3"
    }
  },
  "nbformat": 4,
  "nbformat_minor": 0
}